{
  "nbformat": 4,
  "nbformat_minor": 0,
  "metadata": {
    "colab": {
      "provenance": [],
      "authorship_tag": "ABX9TyMjHVFabFZMkrhqH3Ph/caU",
      "include_colab_link": true
    },
    "kernelspec": {
      "name": "python3",
      "display_name": "Python 3"
    },
    "language_info": {
      "name": "python"
    }
  },
  "cells": [
    {
      "cell_type": "markdown",
      "metadata": {
        "id": "view-in-github",
        "colab_type": "text"
      },
      "source": [
        "<a href=\"https://colab.research.google.com/github/PremSai-cse/11249A148-OOPSlab/blob/main/PythonLab.ipynb\" target=\"_parent\"><img src=\"https://colab.research.google.com/assets/colab-badge.svg\" alt=\"Open In Colab\"/></a>"
      ]
    },
    {
      "cell_type": "code",
      "execution_count": null,
      "metadata": {
        "colab": {
          "base_uri": "https://localhost:8080/"
        },
        "id": "2BicYs8wrIPe",
        "outputId": "f1a7e79b-6ffa-492f-81d5-7318b4f97904"
      },
      "outputs": [
        {
          "output_type": "stream",
          "name": "stdout",
          "text": [
            "5\n",
            "John\n"
          ]
        },
        {
          "output_type": "execute_result",
          "data": {
            "text/plain": [
              "[2]"
            ]
          },
          "metadata": {},
          "execution_count": 7
        }
      ],
      "source": [
        "#Notes\n",
        "\n",
        "[1]\n",
        "x = 5\n",
        "y = \"John\"\n",
        "print(x)\n",
        "print(y)\n",
        "\n",
        "[2]\n",
        "x=5\n",
        "x='Prem'\n",
        "print(x)\n",
        "\n",
        "[3]\n",
        "x = str(3)    # x will be '3'\n",
        "y = int(3)    # y will be 3\n",
        "z = float(3)  # z will be 3.0\n",
        "\n",
        "[4]\n",
        "x = 5\n",
        "y = \"John\"\n",
        "print(type(x))\n",
        "print(type(y))\n",
        "\n",
        "[5]\n",
        "x = \"John\"\n",
        "# is the same as\n",
        "x = 'John'\n"
      ]
    },
    {
      "cell_type": "code",
      "source": [
        "# A Casestudy on Marks of students\n",
        "print(\"welcome to the marksheet portal\")\n",
        "input(\"Enter the name of the student: \")\n",
        "input(\"Register no:\")\n",
        "print(\"This student is from the computer science department.\")\n",
        "import time\n",
        "import sys\n",
        "time.sleep(2)\n",
        "print(\"Connected with the database.\")\n",
        "for i in range(3):\n",
        "    sys.stdout.write(\".\")\n",
        "    sys.stdout.flush()\n",
        "    time.sleep(0.5)\n",
        "marksheet = {\n",
        "    \"OOPS\": [25, 40],\n",
        "    \"DSA\": [58, 38],\n",
        "    \"AI ML\": [22, 35],\n",
        "    \"Computer Science\": [55, 32],\n",
        "    \"English\": [38, 40],\n",
        "    \"Python\": [40, 35],\n",
        "    \"Homeworks\": [55, 40],\n",
        "    \"Assignments\": [45, 35]\n",
        "}\n",
        "# asking for the subject name\n",
        "subject = input(\"\\nEnter the subject name: \")\n",
        "print(\"Subject:\", subject, \"Marks:\", marksheet[subject]) # displaying the marks for the subject"
      ],
      "metadata": {
        "colab": {
          "base_uri": "https://localhost:8080/"
        },
        "id": "ukVx_Poekb_E",
        "outputId": "d572beda-d1cd-4773-e4e5-2726a7987480"
      },
      "execution_count": null,
      "outputs": [
        {
          "output_type": "stream",
          "name": "stdout",
          "text": [
            "welcome to the marksheet portal\n",
            "Enter the name of the student: Prem\n",
            "Register no:123\n",
            "This student is from the computer science department.\n",
            "Connected with the database.\n",
            "...\n",
            "Enter the subject name: Python\n",
            "Subject: Python Marks: [40, 35]\n"
          ]
        }
      ]
    },
    {
      "cell_type": "code",
      "source": [
        "rows = int(input(\"Enter number of rows: \"))\n",
        "\n",
        "for i in range(1, rows+1):\n",
        "    for j in range( 1, i+1):\n",
        "        print(\"* \", end=\"\")\n",
        "    print()"
      ],
      "metadata": {
        "colab": {
          "base_uri": "https://localhost:8080/"
        },
        "id": "v8B-Yus1Du-O",
        "outputId": "5890c171-cfd9-4f6d-d7cc-8133965ddb33"
      },
      "execution_count": null,
      "outputs": [
        {
          "output_type": "stream",
          "name": "stdout",
          "text": [
            "Enter number of rows: 3\n",
            "* \n",
            "* * \n",
            "* * * \n"
          ]
        }
      ]
    },
    {
      "cell_type": "code",
      "source": [
        "rows = int(input(\"Enter the row size for the pattern: \"))\n",
        "for i in range(rows, 0, -1):  # Outer loop for rows in reverse\n",
        "    for j in range(1, i + 1):  # Inner loop for columns\n",
        "        print(\"*\", end=\" \")   # Print star\n",
        "    print()"
      ],
      "metadata": {
        "colab": {
          "base_uri": "https://localhost:8080/"
        },
        "id": "F-t3VQstEJcx",
        "outputId": "e2ea8096-27bb-4d08-d6c4-ac9c044222a3"
      },
      "execution_count": null,
      "outputs": [
        {
          "output_type": "stream",
          "name": "stdout",
          "text": [
            "Enter the row size for the pattern: 7\n",
            "* * * * * * * \n",
            "* * * * * * \n",
            "* * * * * \n",
            "* * * * \n",
            "* * * \n",
            "* * \n",
            "* \n"
          ]
        }
      ]
    },
    {
      "cell_type": "code",
      "source": [
        "rows = int(input(\"Enter the row size for the pattern: \"))\n",
        "for i in range(1, rows + 1):  # Upper part of diamond\n",
        "    for j in range(rows - i):\n",
        "        print(\" \", end=\" \")\n",
        "    for k in range(1, 2 * i):\n",
        "        if k == 1 or k == 2 * i - 1:  # Print star on borders\n",
        "            print(\"*\", end=\" \")\n",
        "        else:\n",
        "            print(\"&\", end=\" \")  # Print space inside\n",
        "    for i in range()\n",
        "    print()\n",
        "for i in range(rows - 1, 0, -1):  # Lower part of diamond\n",
        "    for j in range(rows - i):\n",
        "        print(\" \", end=\" \")\n",
        "    for k in range(1, 2 * i):\n",
        "        if k == 1 or k == 2 * i - 1:  # Print star on borders\n",
        "            print(\"*\", end=\" \")\n",
        "        else:\n",
        "            print(\"%\", end=\" \")  # Print space inside\n",
        "    print()"
      ],
      "metadata": {
        "colab": {
          "base_uri": "https://localhost:8080/"
        },
        "id": "JbHA0rwCXc6q",
        "outputId": "bbc3ec61-ca91-4f37-fdc2-4e6142f96bb8"
      },
      "execution_count": null,
      "outputs": [
        {
          "output_type": "stream",
          "name": "stdout",
          "text": [
            "Enter the row size for the pattern: 7\n",
            "            * \n",
            "          * & * \n",
            "        * & & & * \n",
            "      * & & & & & * \n",
            "    * & & & & & & & * \n",
            "  * & & & & & & & & & * \n",
            "* & & & & & & & & & & & * \n",
            "  * % % % % % % % % % * \n",
            "    * % % % % % % % * \n",
            "      * % % % % % * \n",
            "        * % % % * \n",
            "          * % * \n",
            "            * \n"
          ]
        }
      ]
    },
    {
      "cell_type": "code",
      "source": [
        "rows = int(input(\"Enter the row size for the pattern\"))\n",
        "for i in range(1, rows + 1):  # Outer loop for rows\n",
        "    for j in range(rows  - i):  # Inner loop for spaces\n",
        "        print(\" \", end=\" \")\n",
        "    for k in range(1, 2 * i):  # Inner loop for stars\n",
        "        print(\"*\", end=\" \")\n",
        "    print()"
      ],
      "metadata": {
        "colab": {
          "base_uri": "https://localhost:8080/"
        },
        "id": "FPsnklwwFrie",
        "outputId": "75818679-45eb-4fa7-8532-534ca0c56299"
      },
      "execution_count": null,
      "outputs": [
        {
          "output_type": "stream",
          "name": "stdout",
          "text": [
            "Enter the row size for the pattern1\n",
            "* \n"
          ]
        }
      ]
    },
    {
      "cell_type": "code",
      "source": [
        "rows = int(input(\"Enter the row size for the pattern: \"))\n",
        "for i in range(rows , 0, -1):  # Outer loop for rows in reverse\n",
        "    for j in range(rows  - i):  # Inner loop for spaces\n",
        "        print(\" \", end=\" \")\n",
        "    for k in range(1, 2 * i):  # Inner loop for stars\n",
        "        print(\"*\", end=\" \")\n",
        "    print()  # Move to the next line"
      ],
      "metadata": {
        "colab": {
          "base_uri": "https://localhost:8080/"
        },
        "id": "bOiZDjyoGTVu",
        "outputId": "670b5959-cd2f-4fd9-8d9b-552032263e4c"
      },
      "execution_count": null,
      "outputs": [
        {
          "output_type": "stream",
          "name": "stdout",
          "text": [
            "Enter the row size for the pattern: 6\n",
            "* * * * * * * * * * * \n",
            "  * * * * * * * * * \n",
            "    * * * * * * * \n",
            "      * * * * * \n",
            "        * * * \n",
            "          * \n"
          ]
        }
      ]
    },
    {
      "cell_type": "code",
      "source": [
        "rows = int(input(\"Enter the row size for the pattern: \"))\n",
        "for i in range(1,rows + 1):  # Upper part of diamond\n",
        "    for j in range(rows  - i):\n",
        "        print(\" \", end=\" \")\n",
        "    for k in range(1, 2 * i):\n",
        "        print(\"*\", end=\" \")\n",
        "    print()\n",
        "for i in range(rows  - 1, 0, -1):  # Lower part of diamond\n",
        "    for j in range(rows  - i):\n",
        "        print(\" \", end=\" \")\n",
        "    for k in range(1, 2 * i):\n",
        "        print(\"*\", end=\" \")\n",
        "    print()"
      ],
      "metadata": {
        "colab": {
          "base_uri": "https://localhost:8080/"
        },
        "id": "1400Zt1fHxCV",
        "outputId": "ca51a135-52c2-4c72-b8c6-c1b8d4ecad87"
      },
      "execution_count": null,
      "outputs": [
        {
          "output_type": "stream",
          "name": "stdout",
          "text": [
            "Enter the row size for the pattern: 2\n",
            "  * \n",
            "* * * \n",
            "  * \n"
          ]
        }
      ]
    },
    {
      "cell_type": "code",
      "source": [
        "rows = int(input(\"Enter the row size for the pattern: \"))\n",
        "for i in range(1, rows + 1):  # Outer loop for rows\n",
        "    for j in range(1, rows + 1):  # Inner loop for columns\n",
        "        if i == 1 or i == rows or j == 1 or j == rows :  # Print star only on borders\n",
        "            print(\"*\", end=\" \")\n",
        "        else:\n",
        "            print(\" \", end=\" \")  # Print space inside\n",
        "    print()"
      ],
      "metadata": {
        "colab": {
          "base_uri": "https://localhost:8080/"
        },
        "id": "GKkJmIlvJCE0",
        "outputId": "1c38d6e6-5a1c-457e-9edc-50663aa764a6"
      },
      "execution_count": null,
      "outputs": [
        {
          "output_type": "stream",
          "name": "stdout",
          "text": [
            "Enter the row size for the pattern: 12\n",
            "* * * * * * * * * * * * \n",
            "*                     * \n",
            "*                     * \n",
            "*                     * \n",
            "*                     * \n",
            "*                     * \n",
            "*                     * \n",
            "*                     * \n",
            "*                     * \n",
            "*                     * \n",
            "*                     * \n",
            "* * * * * * * * * * * * \n"
          ]
        }
      ]
    },
    {
      "cell_type": "code",
      "source": [
        "rows = int(input(\"Enter the row size for the pattern: \"))\n",
        "for i in range(rows, 0, - 1):  # Outer loop for rows in reverse\n",
        "    for j in range(1,rows + 1):  # Inner loop for columns\n",
        "        if j == 1 or i == rows or i == j:  # Print star on borders\n",
        "            print(\"*\", end=\" \")\n",
        "        else:\n",
        "            print(\" \", end=\" \")  # Print space inside\n",
        "    print()"
      ],
      "metadata": {
        "colab": {
          "base_uri": "https://localhost:8080/"
        },
        "id": "bdVX4ypnKGXG",
        "outputId": "721538bc-470c-4363-8232-477db6a9db21"
      },
      "execution_count": null,
      "outputs": [
        {
          "output_type": "stream",
          "name": "stdout",
          "text": [
            "Enter the row size for the pattern: 5\n",
            "* * * * * \n",
            "*     *   \n",
            "*   *     \n",
            "* *       \n",
            "*         \n"
          ]
        }
      ]
    },
    {
      "cell_type": "code",
      "source": [
        "rows = int(input(\"Enter the row size for the pattern: \"))\n",
        "for i in range(1, rows+1): #Outer loop for rows\n",
        " for j in range(1,rows+1):    #Inner loop for columns\n",
        "   if j == 1 or i == 1 or i == j: #Print star on borders\n",
        "     print(\"*\", end=\" \")\n",
        "   else:\n",
        "     print(\" \", end=\" \") #Print space inside\n",
        " print()"
      ],
      "metadata": {
        "colab": {
          "base_uri": "https://localhost:8080/"
        },
        "id": "9gGbbV7GLmks",
        "outputId": "fd09be69-37a1-4093-8395-2a0c41d32a60"
      },
      "execution_count": null,
      "outputs": [
        {
          "output_type": "stream",
          "name": "stdout",
          "text": [
            "Enter the row size for the pattern: 5\n",
            "* * * * * \n",
            "* *       \n",
            "*   *     \n",
            "*     *   \n",
            "*       * \n"
          ]
        }
      ]
    },
    {
      "cell_type": "code",
      "source": [
        "rows = int(input(\"Enter the row size for the pattern: \"))\n",
        "for i in range(1,rows+1):\n",
        "  for j in range(rows, 0, -1):\n",
        "    if j == 1 or i == 1 or i == j:\n",
        "      print(\"*\", end=\" \")\n",
        "    else:\n",
        "      print(\" \", end=\" \")\n",
        "  print()"
      ],
      "metadata": {
        "colab": {
          "base_uri": "https://localhost:8080/"
        },
        "id": "3gUs7CDzMmKk",
        "outputId": "f3315d9a-7c1e-4c69-ac49-0193581a5a69"
      },
      "execution_count": null,
      "outputs": [
        {
          "output_type": "stream",
          "name": "stdout",
          "text": [
            "Enter the row size for the pattern: 5\n",
            "* * * * * \n",
            "      * * \n",
            "    *   * \n",
            "  *     * \n",
            "*       * \n"
          ]
        }
      ]
    },
    {
      "cell_type": "code",
      "source": [
        "rows = int(input(\"Enter the row size for the pattern: \"))\n",
        "for i in range(1, rows + 1):  # Outer loop for rows\n",
        "    for j in range(rows  - i):  # Inner loop for spaces\n",
        "        print(\" \", end=\" \")\n",
        "    for k in range(1, 2 * i):  # Inner loop for stars\n",
        "        if k == 1 or k == 2 * i - 1 or i == rows:  # Print star on borders\n",
        "            print(\"*\", end=\" \")\n",
        "        else:\n",
        "            print(\" \", end=\" \")  # Print space inside\n",
        "    print()"
      ],
      "metadata": {
        "colab": {
          "base_uri": "https://localhost:8080/"
        },
        "id": "JBK1OErGOUib",
        "outputId": "80a75dee-58b2-4d70-92e7-aa26f6c5880b"
      },
      "execution_count": null,
      "outputs": [
        {
          "output_type": "stream",
          "name": "stdout",
          "text": [
            "Enter the row size for the pattern: 6\n",
            "          * \n",
            "        *   * \n",
            "      *       * \n",
            "    *           * \n",
            "  *               * \n",
            "* * * * * * * * * * * \n"
          ]
        }
      ]
    },
    {
      "cell_type": "code",
      "source": [
        "x = int(34)\n",
        "y = float(34)\n",
        "print(x)\n",
        "print(y)\n",
        "z = str (\"prem\")\n",
        "print(z)\n",
        "a = 5\n",
        "b = \"Prem\"\n",
        "print(type(a))\n",
        "print(type(b))\n",
        "c = type({\"name\": \"Prem\"})\n",
        "print(c)\n",
        "d= str(\"Hello World\")\n",
        "e = int(20)\n",
        "f = float(20.5)\n",
        "generate_random_port = complex(1j)\n",
        "g = list((\"apple\", \"banana\", \"cherry\"))\n",
        "h = tuple((\"apple\", \"banana\", \"cherry\"))\n",
        "i = range(6)\n",
        "j = dict(name=\"John\", age=36)\n",
        "k = set((\"apple\", \"banana\", \"cherry\"))\n",
        "l = frozenset((\"apple\", \"banana\", \"cherry\"))\n",
        "m = bool(5)\n",
        "n = bytes(5)\n",
        "o = bytearray(5)\n",
        "p = memoryview(bytes(5))\n",
        "print(type(d))\n",
        "print(type(e))\n",
        "print(type(f))\n",
        "print(type(generate_random_port))\n",
        "print(type(g))\n",
        "print(type(h))\n",
        "print(type(i))\n",
        "print(type(j))\n",
        "print(type(k))\n",
        "print(type(l))\n",
        "print(type(m))\n",
        "print(type(n))\n",
        "print(type(o))\n",
        "print(type(p))"
      ],
      "metadata": {
        "colab": {
          "base_uri": "https://localhost:8080/"
        },
        "id": "joydaFfQDjwI",
        "outputId": "47c1ca8f-6dad-4fde-d3ff-aeba1c08a125"
      },
      "execution_count": null,
      "outputs": [
        {
          "output_type": "stream",
          "name": "stdout",
          "text": [
            "34\n",
            "34.0\n",
            "prem\n",
            "<class 'int'>\n",
            "<class 'str'>\n",
            "<class 'dict'>\n",
            "<class 'str'>\n",
            "<class 'int'>\n",
            "<class 'float'>\n",
            "<class 'complex'>\n",
            "<class 'list'>\n",
            "<class 'tuple'>\n",
            "<class 'range'>\n",
            "<class 'dict'>\n",
            "<class 'set'>\n",
            "<class 'frozenset'>\n",
            "<class 'bool'>\n",
            "<class 'bytes'>\n",
            "<class 'bytearray'>\n",
            "<class 'memoryview'>\n"
          ]
        }
      ]
    },
    {
      "cell_type": "code",
      "source": [
        "# string catentation\n",
        "a = \"Hello\"\n",
        "b = \"World\"\n",
        "c = a + b\n",
        "print(c)\n",
        "d = \"\"\"Namaste\n",
        "      india\"\"\"\n",
        "print(d)\n",
        "e = \"Hello, World\"\n",
        "print(e[:5])"
      ],
      "metadata": {
        "id": "s5anB-XDHVR-",
        "colab": {
          "base_uri": "https://localhost:8080/"
        },
        "outputId": "d9bdc9c8-2f59-452d-9904-cce471f66d05"
      },
      "execution_count": null,
      "outputs": [
        {
          "output_type": "stream",
          "name": "stdout",
          "text": [
            "HelloWorld\n",
            "Namaste\n",
            "      india\n",
            "Hello\n"
          ]
        }
      ]
    },
    {
      "cell_type": "code",
      "source": [],
      "metadata": {
        "id": "T8a45kcmRHY5"
      },
      "execution_count": null,
      "outputs": []
    },
    {
      "cell_type": "code",
      "source": [
        "# inventory_management.py\n",
        "# Case Study: Retail Inventory Management\n",
        "# This program simulates a simple inventory management system for a retail store.\n",
        "# It uses a list to store product records (dictionaries) and utilizes\n",
        "# various list methods to perform common inventory operations.\n",
        "def display_menu():\n",
        "    \"\"\"Prints the main menu for the user.\"\"\"\n",
        "    print(\"\\n--- Inventory Management System ---\")\n",
        "    print(\"1. Add New Product (append)\")\n",
        "    print(\"2. Add a Batch of Products (extend)\")\n",
        "    print(\"3. Insert Product at Specific Position (insert)\")\n",
        "    print(\"4. Remove Product by Name (pop, index)\")\n",
        "    print(\"5. Update Product Stock\")\n",
        "    print(\"6. Count Occurrences of a Product (count)\")\n",
        "    print(\"7. Sort Products by Name (sort)\")\n",
        "    print(\"8. Reverse Inventory Order (reverse)\")\n",
        "    print(\"9. Create a Backup of Inventory (copy)\")\n",
        "    print(\"10. Clear All Inventory (clear)\")\n",
        "    print(\"11. Display Inventory\")\n",
        "    print(\"0. Exit\")\n",
        "    print(\"---------------------------------\")\n",
        "\n",
        "def find_product_index(inventory, product_name):\n",
        "    \"\"\"Helper function to find the index of a product by its name.\"\"\"\n",
        "    for i, product in enumerate(inventory):\n",
        "        if product['name'].lower() == product_name.lower():\n",
        "            return i\n",
        "    return -1 # Return -1 if not found\n",
        "\n",
        "def main():\n",
        "    \"\"\"Main function to run the inventory management system.\"\"\"\n",
        "    # The inventory is a list of dictionaries. Each dictionary is a product.\n",
        "    inventory = [\n",
        "        {'name': 'Milk', 'quantity': 20},\n",
        "        {'name': 'Bread', 'quantity': 35},\n",
        "        {'name': 'Eggs', 'quantity': 60}\n",
        "    ]\n",
        "    inventory_backup = []\n",
        "    while True:\n",
        "        display_menu()\n",
        "        choice = input(\"Enter your choice (0-11): \")\n",
        "        if choice == '1':\n",
        "            # 1. append(): Adds a new product to the end of the inventory.\n",
        "            name = input(\"Enter product name: \")\n",
        "            try:\n",
        "                quantity = int(input(\"Enter product quantity: \"))\n",
        "                inventory.append({'name': name, 'quantity': quantity})\n",
        "                print(f\"'{name}' has been added to the inventory.\")\n",
        "            except ValueError:\n",
        "                print(\"Invalid quantity. Please enter a number.\")\n",
        "        elif choice == '2':\n",
        "            # 2. extend(): Adds a list of new products to the inventory.\n",
        "            new_products = [\n",
        "                {'name': 'Cheese', 'quantity': 25},\n",
        "                {'name': 'Yogurt', 'quantity': 40}\n",
        "            ]\n",
        "            inventory.extend(new_products)\n",
        "            print(\"A batch of new products (Cheese, Yogurt) has been added.\")\n",
        "        elif choice == '3':\n",
        "            # 3. insert(): Inserts a product at a specific index.\n",
        "            name = input(\"Enter product name to insert: \")\n",
        "            try:\n",
        "                quantity = int(input(\"Enter product quantity: \"))\n",
        "                position = int(input(f\"Enter position to insert at (0 to {len(inventory)}): \"))\n",
        "                if 0 <= position <= len(inventory):\n",
        "                    inventory.insert(position, {'name': name, 'quantity': quantity})\n",
        "                    print(f\"'{name}' inserted at position {position}.\")\n",
        "                else:\n",
        "                    print(\"Invalid position.\")\n",
        "            except ValueError:\n",
        "                print(\"Invalid quantity or position. Please enter numbers.\")\n",
        "        elif choice == '4':\n",
        "            # 4. pop() and index(): Removes a product by its name.\n",
        "            name = input(\"Enter product name to remove: \")\n",
        "            # We use a helper function to find the index first.\n",
        "            index_to_remove = find_product_index(inventory, name)\n",
        "            if index_to_remove != -1:\n",
        "                removed_product = inventory.pop(index_to_remove)\n",
        "                print(f\"Removed product: {removed_product['name']}.\")\n",
        "            else:\n",
        "                print(f\"Product '{name}' not found in inventory.\")\n",
        "        elif choice == '5':\n",
        "            # Update: This demonstrates modifying an element at a specific index.\n",
        "            name = input(\"Enter product name to update: \")\n",
        "            index_to_update = find_product_index(inventory, name)\n",
        "            if index_to_update != -1:\n",
        "                try:\n",
        "                    new_quantity = int(input(f\"Enter new quantity for {name}: \"))\n",
        "                    inventory[index_to_update]['quantity'] = new_quantity\n",
        "                    print(f\"'{name}' quantity updated to {new_quantity}.\")\n",
        "                except ValueError:\n",
        "                    print(\"Invalid quantity.\")\n",
        "            else:\n",
        "                print(f\"Product '{name}' not found.\")\n",
        "        elif choice == '6':\n",
        "            # 6. count(): Counts how many times an item appears.\n",
        "            # Note: In our case, products should be unique, but this demonstrates the method.\n",
        "            # Let's create a temporary list with a duplicate to show how it works.\n",
        "            temp_list = inventory + [{'name': 'Milk', 'quantity': 20}]\n",
        "            name = input(\"Enter product name to count: \")\n",
        "            # We need to count dictionaries, so we create a sample one.\n",
        "            count_item = next((item for item in temp_list if item['name'].lower() == name.lower()), None)\n",
        "            if count_item:\n",
        "                occurrences = temp_list.count(count_item)\n",
        "                print(f\"'{name}' appears {occurrences} time(s) in the temporary list.\")\n",
        "            else:\n",
        "                print(f\"'{name}' not found.\")\n",
        "\n",
        "        elif choice == '7':\n",
        "            # 7. sort(): Sorts the inventory in place.\n",
        "            inventory.sort(key=lambda product: product['name'])\n",
        "            print(\"Inventory has been sorted alphabetically by product name.\")\n",
        "            print(inventory)\n",
        "        elif choice == '8':\n",
        "            # 8. reverse(): Reverses the order of the inventory in place.\n",
        "            inventory.reverse()\n",
        "            print(\"Inventory order has been reversed.\")\n",
        "            print(inventory)\n",
        "        elif choice == '9':\n",
        "            # 9. copy(): Creates a shallow copy of the inventory.\n",
        "            inventory_backup = inventory.copy()\n",
        "            print(\"A backup of the current inventory has been created.\")\n",
        "            print(\"Backup:\", inventory_backup)\n",
        "        elif choice == '10':\n",
        "            # 10. clear(): Removes all items from the inventory.\n",
        "            inventory.clear()\n",
        "            print(\"All items have been cleared from the inventory.\")\n",
        "        elif choice == '11':\n",
        "            # Display current inventory\n",
        "            print(\"\\n--- Current Inventory ---\")\n",
        "            if not inventory:\n",
        "                print(\"The inventory is empty.\")\n",
        "            else:\n",
        "                for product in inventory:\n",
        "                    print(f\"- {product['name']}: {product['quantity']} units\")\n",
        "            print(\"-------------------------\")\n",
        "        elif choice == '0':\n",
        "            print(\"Exiting the Inventory Management System. Goodbye!\")\n",
        "            break\n",
        "        else:\n",
        "            print(\"Invalid choice. Please select a valid option.\")\n",
        "\n",
        "if __name__ == \"__main__\":\n",
        "    main()"
      ],
      "metadata": {
        "colab": {
          "base_uri": "https://localhost:8080/"
        },
        "id": "dg0L2O_c_prI",
        "outputId": "eae0c9c7-49c2-4f70-e96a-735a8a44ca7a"
      },
      "execution_count": null,
      "outputs": [
        {
          "output_type": "stream",
          "name": "stdout",
          "text": [
            "\n",
            "--- Inventory Management System ---\n",
            "1. Add New Product (append)\n",
            "2. Add a Batch of Products (extend)\n",
            "3. Insert Product at Specific Position (insert)\n",
            "4. Remove Product by Name (pop, index)\n",
            "5. Update Product Stock\n",
            "6. Count Occurrences of a Product (count)\n",
            "7. Sort Products by Name (sort)\n",
            "8. Reverse Inventory Order (reverse)\n",
            "9. Create a Backup of Inventory (copy)\n",
            "10. Clear All Inventory (clear)\n",
            "11. Display Inventory\n",
            "0. Exit\n",
            "---------------------------------\n",
            "Enter your choice (0-11): 1\n",
            "Enter product name: Mukund\n",
            "Enter product quantity: 1000\n",
            "'Mukund' has been added to the inventory.\n",
            "\n",
            "--- Inventory Management System ---\n",
            "1. Add New Product (append)\n",
            "2. Add a Batch of Products (extend)\n",
            "3. Insert Product at Specific Position (insert)\n",
            "4. Remove Product by Name (pop, index)\n",
            "5. Update Product Stock\n",
            "6. Count Occurrences of a Product (count)\n",
            "7. Sort Products by Name (sort)\n",
            "8. Reverse Inventory Order (reverse)\n",
            "9. Create a Backup of Inventory (copy)\n",
            "10. Clear All Inventory (clear)\n",
            "11. Display Inventory\n",
            "0. Exit\n",
            "---------------------------------\n",
            "Enter your choice (0-11): 0\n",
            "Exiting the Inventory Management System. Goodbye!\n"
          ]
        }
      ]
    },
    {
      "cell_type": "code",
      "source": [
        "# --- Student Details ---\n",
        "name = input(\"Enter Student Name: \")\n",
        "roll = input(\"Enter Roll Number: \")\n",
        "num_subjects = int(input(\"Enter Number of Subjects: \"))\n",
        "subjects = []\n",
        "for i in range(num_subjects):\n",
        "    print(f\"\\n--- Subject {i+1} ---\")\n",
        "    subject_name = input(\"Enter Subject Name: \")\n",
        "    internal1 = int(input(\"Internal-1 Marks : \"))\n",
        "    internal2 = int(input(\"Internal-2 Marks : \"))\n",
        "    assignment = int(input(\"Assignment Marks : \"))\n",
        "    external = int(input(\"External Exam Marks : \"))\n",
        "    # Internal marks (out of 40)\n",
        "    avg_internal = (internal1 + internal2) / 2\n",
        "    internal_total = avg_internal + assignment\n",
        "    # External marks (out of 60)\n",
        "    external_total = (external / 100) * 60\n",
        "    # Final total (out of 100)\n",
        "    final_total = internal_total + external_total\n",
        "    # --- Grade function in the middle ---\n",
        "    def calculate_grade(total_marks):\n",
        "        if total_marks >= 90:\n",
        "            return \"O\"\n",
        "        elif total_marks >= 80:\n",
        "            return \"A+\"\n",
        "        elif total_marks >= 70:\n",
        "            return \"A\"\n",
        "        elif total_marks >= 60:\n",
        "            return \"B+\"\n",
        "        elif total_marks >= 50:\n",
        "            return \"B\"\n",
        "        elif total_marks >= 40:\n",
        "            return \"C\"\n",
        "        else:\n",
        "            return \"F\"\n",
        "    grade = calculate_grade(final_total)\n",
        "    # Pass/Fail check\n",
        "    if internal_total < 20 or external_total < 30:\n",
        "        result = \"FAIL\"\n",
        "        grade = \"F\"\n",
        "    else:\n",
        "        result = \"PASS\"\n",
        "    subjects.append([subject_name, internal_total, external_total, final_total, result, grade])\n",
        "# --- Print Marksheet ---\n",
        "print(\"\\n==============================\")\n",
        "print(\" MARKSHEET\")\n",
        "print(\"==============================\")\n",
        "print(f\"Name : {name}\")\n",
        "print(f\"Roll : {roll}\")\n",
        "print(\"------------------------------\")\n",
        "print(f\"{'Subject':<15}{'Internal(40)':<15}{'External(60)':<15}{'Total(100)':<15}{'Result':<10}{'Grade':<5}\")\n",
        "print(\"-\"*75)\n",
        "for sub in subjects:\n",
        "    print(f\"{sub[0]:<15}{sub[1]:<15.2f}{sub[2]:<15.2f}{sub[3]:<15.2f}{sub[4]:<10}{sub[5]:<5}\")\n",
        "print(\"=\"*75)"
      ],
      "metadata": {
        "colab": {
          "base_uri": "https://localhost:8080/"
        },
        "id": "_Eli58kDLy0e",
        "outputId": "b8d2749f-5bba-47f6-a9aa-5f15f38e5a58"
      },
      "execution_count": null,
      "outputs": [
        {
          "output_type": "stream",
          "name": "stdout",
          "text": [
            "Enter Student Name: Prem\n",
            "Enter Roll Number: 12\n",
            "Enter Number of Subjects: 1\n",
            "\n",
            "--- Subject 1 ---\n",
            "Enter Subject Name: Maths\n",
            "Internal-1 Marks : 90\n",
            "Internal-2 Marks : 100\n",
            "Assignment Marks : 100\n",
            "External Exam Marks : 100\n",
            "\n",
            "==============================\n",
            " MARKSHEET\n",
            "==============================\n",
            "Name : Prem\n",
            "Roll : 12\n",
            "------------------------------\n",
            "Subject        Internal(40)   External(60)   Total(100)     Result    Grade\n",
            "---------------------------------------------------------------------------\n",
            "Maths          195.00         60.00          255.00         PASS      O    \n",
            "===========================================================================\n"
          ]
        }
      ]
    },
    {
      "cell_type": "code",
      "source": [
        "# -----------------------------------\n",
        "# Inventory System using Dictionary\n",
        "# -----------------------------------\n",
        "# Create an inventory (product: quantity)\n",
        "inventory = {\n",
        "\"Apples\": 50,\n",
        "\"Bananas\": 30,\n",
        "\"Oranges\": 20\n",
        "}\n",
        "print(\"Initial Inventory:\", inventory)\n",
        "# ---- Dictionary Methods Demonstrations ----\n",
        "# 1. get() - safely get item\n",
        "print(\"\\n1. Get method\")\n",
        "print(\"Apples count:\", inventory.get(\"Apples\"))\n",
        "print(\"Mangoes count (not present):\", inventory.get(\"Mangoes\", \"Not Available\"))\n",
        "# 2. keys() - list of keys\n",
        "print(\"\\n2. Keys method\")\n",
        "print(\"Products available:\", list(inventory.keys()))\n",
        "# 3. values() - list of values\n",
        "print(\"\\n3. Values method\")\n",
        "print(\"Stock quantities:\", list(inventory.values()))\n",
        "# 4. items() - key-value pairs\n",
        "print(\"\\n4. Items method\")\n",
        "print(\"Inventory details:\", list(inventory.items()))\n",
        "# 5. update() - update with another dict\n",
        "print(\"\\n5. Update method\")\n",
        "inventory.update({\"Mangoes\": 40, \"Bananas\": 60}) # Update Bananas, Add Mangoes\n",
        "print(\"After update:\", inventory)\n",
        "# 6. copy() - create a copy\n",
        "print(\"\\n6 Copy method\")\n",
        "backup_inventory = inventory.copy()\n",
        "# 7."
      ],
      "metadata": {
        "id": "m-2ihDN2NRI2"
      },
      "execution_count": null,
      "outputs": []
    },
    {
      "cell_type": "code",
      "source": [
        "print(\"welcome to the marksheet portal\")\n",
        "\n",
        "student_name = input(\"Enter the name of the student: \")\n",
        "\n",
        "# Keep asking until a valid 5-digit register number is entered\n",
        "while True:\n",
        "    reg_no = input(\"Register no (5 digits): \")\n",
        "    if reg_no.isdigit() and len(reg_no) == 5:\n",
        "        break\n",
        "    else:\n",
        "        print(\"Invalid! Please enter a 5-digit number.\")\n",
        "\n",
        "print(\"\\nStudent:\", student_name)\n",
        "print(\"Register Number:\", reg_no)\n",
        "print(\"This student is from the computer science department.\")\n",
        "\n",
        "import time\n",
        "import sys\n",
        "\n",
        "time.sleep(2)\n",
        "print(\"Connected with the database.\")\n",
        "for i in range(3):\n",
        "    sys.stdout.write(\".\")\n",
        "    sys.stdout.flush()\n",
        "    time.sleep(0.5)\n",
        "\n",
        "print(\"\\nFetching the data\")\n",
        "time.sleep(2)\n",
        "\n",
        "print(\"\\nInput the marks of the student for each subject:\\n\")\n",
        "\n",
        "# List of subjects\n",
        "subjects = [\"Maths\", \"Physics\", \"Computer Science\", \"AIML\", \"English\", \"Python\", \"OOPS\", \"DSA\"]\n",
        "\n",
        "# Store results\n",
        "results = {}\n",
        "\n",
        "for subject in subjects:\n",
        "    internal = int(input(f\"Enter internal marks for {subject} (out of 40): \"))\n",
        "    external = int(input(f\"Enter external marks for {subject} (out of 60): \"))\n",
        "    total = internal + external\n",
        "\n",
        "    # Pass/Fail logic\n",
        "    if internal < 20 or external < 30 or total < 40:\n",
        "        results[subject] = f\"FAIL | Internal: {internal}, External: {external}, Total: {total}/100\"\n",
        "    else:\n",
        "        percentage = total  # since total is out of 100\n",
        "        results[subject] = f\"PASS | Internal: {internal}, External: {external}, Total: {total}/100, Percentage: {percentage}%\"\n",
        "\n",
        "# Show final marksheet\n",
        "print(\"\\n--- Marksheet ---\")\n",
        "print(\"Student:\", student_name)\n",
        "print(\"Register Number:\", reg_no)\n",
        "for subject, result in results.items():\n",
        "    print(f\"{subject}: {result}\")"
      ],
      "metadata": {
        "id": "4OcAmF805VcQ"
      },
      "execution_count": null,
      "outputs": []
    },
    {
      "cell_type": "markdown",
      "metadata": {
        "id": "46f6a87e"
      },
      "source": [
        "# Task\n",
        "Generate a case study on network traffic analysis in a new code cell using python."
      ]
    },
    {
      "cell_type": "markdown",
      "metadata": {
        "id": "9de7dcf5"
      },
      "source": [
        "## Simulate network traffic data\n",
        "\n",
        "### Subtask:\n",
        "Generate a dataset representing simplified network traffic, including source/destination IPs, ports, and potentially traffic size.\n"
      ]
    },
    {
      "cell_type": "markdown",
      "metadata": {
        "id": "d5e6d018"
      },
      "source": [
        "**Reasoning**:\n",
        "I need to generate a dataset representing simplified network traffic. I will use the `random` and `ipaddress` modules to create random IP addresses, ports, and traffic sizes and store them in a list of dictionaries.\n",
        "\n"
      ]
    },
    {
      "cell_type": "code",
      "metadata": {
        "colab": {
          "base_uri": "https://localhost:8080/"
        },
        "id": "6abe4e0e",
        "outputId": "3a9fca03-5d41-478f-cfa2-4a51c748e78d"
      },
      "source": [
        "import random\n",
        "import ipaddress\n",
        "\n",
        "def generate_random_ip():\n",
        "    \"\"\"Generates a random IPv4 address.\"\"\"\n",
        "    return str(ipaddress.IPv4Address(random.getrandbits(32)))\n",
        "\n",
        "def generate_random_port():\n",
        "    \"\"\"Generates a random port number between 1 and 65535.\"\"\"\n",
        "    return random.randint(1, 65535)\n",
        "\n",
        "def generate_random_traffic_size():\n",
        "    \"\"\"Generates a random traffic size in bytes.\"\"\"\n",
        "    return random.randint(100, 10000)\n",
        "\n",
        "network_traffic_data = []\n",
        "num_events = 150 # Generate 150 traffic events\n",
        "\n",
        "for _ in range(num_events):\n",
        "    event = {\n",
        "        'source_ip': generate_random_ip(),\n",
        "        'destination_ip': generate_random_ip(),\n",
        "        'source_port': generate_random_port(),\n",
        "        'destination_port': generate_random_port(),\n",
        "        'traffic_size': generate_random_traffic_size()\n",
        "    }\n",
        "    network_traffic_data.append(event)\n",
        "\n",
        "# Display the first 5 events to verify\n",
        "print(network_traffic_data[:5])"
      ],
      "execution_count": null,
      "outputs": [
        {
          "output_type": "stream",
          "name": "stdout",
          "text": [
            "[{'source_ip': '232.153.245.222', 'destination_ip': '177.193.128.51', 'source_port': 35215, 'destination_port': 23403, 'traffic_size': 3051}, {'source_ip': '7.187.171.241', 'destination_ip': '229.133.69.75', 'source_port': 24819, 'destination_port': 61057, 'traffic_size': 1007}, {'source_ip': '208.3.111.101', 'destination_ip': '242.6.210.5', 'source_port': 63768, 'destination_port': 12878, 'traffic_size': 3127}, {'source_ip': '161.118.176.172', 'destination_ip': '81.244.195.16', 'source_port': 43479, 'destination_port': 31477, 'traffic_size': 5181}, {'source_ip': '182.139.88.118', 'destination_ip': '165.16.88.248', 'source_port': 39393, 'destination_port': 39873, 'traffic_size': 2114}]\n"
          ]
        }
      ]
    },
    {
      "cell_type": "markdown",
      "metadata": {
        "id": "fe882345"
      },
      "source": [
        "## Load and structure data\n",
        "\n",
        "### Subtask:\n",
        "Load the simulated data into a suitable data structure, like a list of dictionaries or a simple custom class.\n"
      ]
    },
    {
      "cell_type": "markdown",
      "metadata": {
        "id": "d4947bb3"
      },
      "source": [
        "**Reasoning**:\n",
        "Confirm that the `network_traffic_data` variable exists and contains data.\n",
        "\n"
      ]
    },
    {
      "cell_type": "code",
      "metadata": {
        "colab": {
          "base_uri": "https://localhost:8080/"
        },
        "id": "1b3711ed",
        "outputId": "472b8e20-cbae-475d-bb64-dfa0a50efbe6"
      },
      "source": [
        "if 'network_traffic_data' in locals() and isinstance(network_traffic_data, list) and len(network_traffic_data) > 0:\n",
        "    print(\"Confirmed: 'network_traffic_data' exists and contains data.\")\n",
        "    print(f\"Number of records: {len(network_traffic_data)}\")\n",
        "    print(\"First record:\", network_traffic_data[0])\n",
        "else:\n",
        "    print(\"Error: 'network_traffic_data' is not available or is empty.\")\n"
      ],
      "execution_count": null,
      "outputs": [
        {
          "output_type": "stream",
          "name": "stdout",
          "text": [
            "Confirmed: 'network_traffic_data' exists and contains data.\n",
            "Number of records: 150\n",
            "First record: {'source_ip': '232.153.245.222', 'destination_ip': '177.193.128.51', 'source_port': 35215, 'destination_port': 23403, 'traffic_size': 3051}\n"
          ]
        }
      ]
    },
    {
      "cell_type": "markdown",
      "metadata": {
        "id": "b4f950ce"
      },
      "source": [
        "## Perform basic analysis\n",
        "\n",
        "### Subtask:\n",
        "Calculate metrics like total traffic size, count traffic by source/destination IP or port.\n"
      ]
    },
    {
      "cell_type": "markdown",
      "metadata": {
        "id": "d0e6cc3f"
      },
      "source": [
        "**Reasoning**:\n",
        "Calculate the total traffic size and count occurrences for source IPs, destination IPs, source ports, and destination ports using list comprehensions and the `Counter` object from the `collections` module, then print the results as requested by the instructions.\n",
        "\n"
      ]
    },
    {
      "cell_type": "code",
      "metadata": {
        "colab": {
          "base_uri": "https://localhost:8080/"
        },
        "id": "3a569e69",
        "outputId": "e00ac046-9b62-4d23-a321-6359dc9be825"
      },
      "source": [
        "from collections import Counter\n",
        "# Calculate total traffic size\n",
        "total_traffic_size = sum(event['traffic_size'] for event in network_traffic_data)\n",
        "# Count occurrences of source IPs\n",
        "source_ip_counts = Counter(event['source_ip'] for event in network_traffic_data)\n",
        "# Count occurrences of destination IPs\n",
        "destination_ip_counts = Counter(event['destination_ip'] for event in network_traffic_data)\n",
        "# Count occurrences of source ports\n",
        "source_port_counts = Counter(event['source_port'] for event in network_traffic_data)\n",
        "# Count occurrences of destination ports\n",
        "destination_port_counts = Counter(event['destination_port'] for event in network_traffic_data)\n",
        "# Print the results\n",
        "print(f\"Total Traffic Size: {total_traffic_size} bytes\")\n",
        "print(\"\\nSource IP Counts:\")\n",
        "for ip, count in source_ip_counts.most_common(5): # Print top 5 for brevity\n",
        "    print(f\"{ip}: {count}\")\n",
        "print(\"\\nDestination IP Counts:\")\n",
        "for ip, count in destination_ip_counts.most_common(5): # Print top 5 for brevity\n",
        "    print(f\"{ip}: {count}\")\n",
        "print(\"\\nSource Port Counts:\")\n",
        "for port, count in source_port_counts.most_common(5): # Print top 5 for brevity\n",
        "    print(f\"{port}: {count}\")\n",
        "print(\"\\nDestination Port Counts:\")\n",
        "for port, count in destination_port_counts.most_common(5): # Print top 5 for brevity\n",
        "    print(f\"{port}: {count}\")"
      ],
      "execution_count": null,
      "outputs": [
        {
          "output_type": "stream",
          "name": "stdout",
          "text": [
            "Total Traffic Size: 742323 bytes\n",
            "\n",
            "Source IP Counts:\n",
            "232.153.245.222: 1\n",
            "7.187.171.241: 1\n",
            "208.3.111.101: 1\n",
            "161.118.176.172: 1\n",
            "182.139.88.118: 1\n",
            "\n",
            "Destination IP Counts:\n",
            "177.193.128.51: 1\n",
            "229.133.69.75: 1\n",
            "242.6.210.5: 1\n",
            "81.244.195.16: 1\n",
            "165.16.88.248: 1\n",
            "\n",
            "Source Port Counts:\n",
            "35215: 1\n",
            "24819: 1\n",
            "63768: 1\n",
            "43479: 1\n",
            "39393: 1\n",
            "\n",
            "Destination Port Counts:\n",
            "23403: 1\n",
            "61057: 1\n",
            "12878: 1\n",
            "31477: 1\n",
            "39873: 1\n"
          ]
        }
      ]
    },
    {
      "cell_type": "markdown",
      "metadata": {
        "id": "43bbf7ae"
      },
      "source": [
        "## Identify potential issues\n",
        "\n",
        "### Subtask:\n",
        "Based on the simplified analysis, identify any potential anomalies or patterns that might indicate network issues.\n"
      ]
    },
    {
      "cell_type": "markdown",
      "metadata": {
        "id": "663ff1b3"
      },
      "source": [
        "**Reasoning**:\n",
        "Analyze the counts from the previous step to identify potential anomalies and interpret their meaning in a real-world network analysis context.\n",
        "\n"
      ]
    },
    {
      "cell_type": "code",
      "metadata": {
        "colab": {
          "base_uri": "https://localhost:8080/"
        },
        "id": "226a52fd",
        "outputId": "a4012cf3-d7b7-4f28-dc6e-c8d173211025"
      },
      "source": [
        "print(\"Analysis of Network Traffic Counts:\")\n",
        "print(\"-----------------------------------\")\n",
        "print(\"\\nSource IP Counts (Top 5):\")\n",
        "# In a real scenario, a few source IPs with significantly higher counts than others could indicate:\n",
        "# - A compromised host initiating many connections.\n",
        "# - A server with a high volume of outgoing traffic (e.g., a web server).\n",
        "# - A host involved in a scan or attack.\n",
        "for ip, count in source_ip_counts.most_common(5):\n",
        "    print(f\"- {ip}: {count} connections. (Potential observation: High count might indicate unusual outbound activity.)\")\n",
        "print(\"\\nDestination IP Counts (Top 5):\")\n",
        "# In a real scenario, a few destination IPs with significantly higher counts than others could indicate:\n",
        "# - A popular server being accessed by many clients.\n",
        "# - A target of a denial-of-service (DoS) attack.\n",
        "# - A central service or resource being heavily utilized.\n",
        "for ip, count in destination_ip_counts.most_common(5):\n",
        "    print(f\"- {ip}: {count} connections. (Potential observation: High count might indicate a popular service or potential attack target.)\")\n",
        "print(\"\\nSource Port Counts (Top 5):\")\n",
        "# In a real scenario, a few source ports with significantly higher counts could indicate:\n",
        "# - A specific application or service on a host initiating many connections.\n",
        "# - Ephemeral ports being used, which is normal for client connections.\n",
        "# - A host running a service on a non-standard port with high outbound traffic.\n",
        "for port, count in source_port_counts.most_common(5):\n",
        "    print(f\"- {port}: {count} connections. (Potential observation: High count might indicate a specific application's activity.)\")\n",
        "print(\"\\nDestination Port Counts (Top 5):\")\n",
        "# In a real scenario, a few destination ports with significantly higher counts could indicate:\n",
        "# - A commonly used service (e.g., 80 for HTTP, 443 for HTTPS, 22 for SSH).\n",
        "# - A service being targeted by many connections (e.g., a DoS attack).\n",
        "# - Internal application ports with high traffic.\n",
        "for port, count in destination_port_counts.most_common(5):\n",
        "    print(f\"- {port}: {count} connections. (Potential observation: High count might indicate a well-known service or a targeted port.)\")\n",
        "print(\"\\nInterpretation for this dataset:\")\n",
        "print(\"Given the small number of events (150) and the random generation of data, each IP and port appears to have been generated and counted only once.\")\n",
        "print(\"In this specific simulated dataset, there are no clear 'anomalies' in terms of unusually high counts for any single IP or port.\")\n",
        "print(\"However, the process demonstrated above is how one would begin to identify potential points of interest (IPs/ports with high activity) in a larger, more realistic network traffic dataset.\")"
      ],
      "execution_count": null,
      "outputs": [
        {
          "output_type": "stream",
          "name": "stdout",
          "text": [
            "Analysis of Network Traffic Counts:\n",
            "-----------------------------------\n",
            "\n",
            "Source IP Counts (Top 5):\n",
            "- 232.153.245.222: 1 connections. (Potential observation: High count might indicate unusual outbound activity.)\n",
            "- 7.187.171.241: 1 connections. (Potential observation: High count might indicate unusual outbound activity.)\n",
            "- 208.3.111.101: 1 connections. (Potential observation: High count might indicate unusual outbound activity.)\n",
            "- 161.118.176.172: 1 connections. (Potential observation: High count might indicate unusual outbound activity.)\n",
            "- 182.139.88.118: 1 connections. (Potential observation: High count might indicate unusual outbound activity.)\n",
            "\n",
            "Destination IP Counts (Top 5):\n",
            "- 177.193.128.51: 1 connections. (Potential observation: High count might indicate a popular service or potential attack target.)\n",
            "- 229.133.69.75: 1 connections. (Potential observation: High count might indicate a popular service or potential attack target.)\n",
            "- 242.6.210.5: 1 connections. (Potential observation: High count might indicate a popular service or potential attack target.)\n",
            "- 81.244.195.16: 1 connections. (Potential observation: High count might indicate a popular service or potential attack target.)\n",
            "- 165.16.88.248: 1 connections. (Potential observation: High count might indicate a popular service or potential attack target.)\n",
            "\n",
            "Source Port Counts (Top 5):\n",
            "- 35215: 1 connections. (Potential observation: High count might indicate a specific application's activity.)\n",
            "- 24819: 1 connections. (Potential observation: High count might indicate a specific application's activity.)\n",
            "- 63768: 1 connections. (Potential observation: High count might indicate a specific application's activity.)\n",
            "- 43479: 1 connections. (Potential observation: High count might indicate a specific application's activity.)\n",
            "- 39393: 1 connections. (Potential observation: High count might indicate a specific application's activity.)\n",
            "\n",
            "Destination Port Counts (Top 5):\n",
            "- 23403: 1 connections. (Potential observation: High count might indicate a well-known service or a targeted port.)\n",
            "- 61057: 1 connections. (Potential observation: High count might indicate a well-known service or a targeted port.)\n",
            "- 12878: 1 connections. (Potential observation: High count might indicate a well-known service or a targeted port.)\n",
            "- 31477: 1 connections. (Potential observation: High count might indicate a well-known service or a targeted port.)\n",
            "- 39873: 1 connections. (Potential observation: High count might indicate a well-known service or a targeted port.)\n",
            "\n",
            "Interpretation for this dataset:\n",
            "Given the small number of events (150) and the random generation of data, each IP and port appears to have been generated and counted only once.\n",
            "In this specific simulated dataset, there are no clear 'anomalies' in terms of unusually high counts for any single IP or port.\n",
            "However, the process demonstrated above is how one would begin to identify potential points of interest (IPs/ports with high activity) in a larger, more realistic network traffic dataset.\n"
          ]
        }
      ]
    },
    {
      "cell_type": "markdown",
      "metadata": {
        "id": "e0a8e111"
      },
      "source": [
        "## Present findings\n",
        "\n",
        "### Subtask:\n",
        "Display the results of the analysis and summarize the findings of the case study.\n"
      ]
    }
  ]
}